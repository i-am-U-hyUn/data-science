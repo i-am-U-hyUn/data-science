{
  "cells": [
    {
      "cell_type": "markdown",
      "metadata": {
        "id": "view-in-github",
        "colab_type": "text"
      },
      "source": [
        "<a href=\"https://colab.research.google.com/github/i-am-U-hyUn/data-science/blob/main/%EB%AF%B8%EC%85%984_%EC%9D%80%ED%96%89%EA%B3%A0%EA%B0%9D%EB%8D%B0%EC%9D%B4%ED%84%B0.ipynb\" target=\"_parent\"><img src=\"https://colab.research.google.com/assets/colab-badge.svg\" alt=\"Open In Colab\"/></a>"
      ]
    },
    {
      "cell_type": "markdown",
      "id": "8e3b5345",
      "metadata": {
        "id": "8e3b5345"
      },
      "source": [
        "# 데이터 구성\n",
        "\n",
        "https://www.kaggle.com/datasets/shubhammeshram579/bank-customer-churn-prediction\n",
        "\n",
        "1. Customer ID: 각 고객의 고유 식별자\n",
        "2. Surname: 고객의 성(이름)\n",
        "3. Credit Score: 고객의 신용점수를 나타내는 수치\n",
        "4. Geography: 고객이 거주하는 국가(프랑스, 스페인, 독일)\n",
        "5. Gender: 고객의 성별\n",
        "6. Age: 고객의 나이\n",
        "7. Tenure: 고객이 은행에 속한 연수\n",
        "8. Balance: 고객의 계좌 잔액\n",
        "9. NumOfProducts: 고객이 이용하는 은행 상품 수(예: 적금, 신용카드)\n",
        "10. HasCrCard: 고객의 신용카드 보유 여부(1 = 예, 0 = 아니요)\n",
        "11. IsActiveMember: 고객이 활성 회원인지 여부(1 = 예, 0 = 아니요)\n",
        "12. EstimatedSalary: 고객의 예상 급여\n",
        "13. Exited: 고객이 이탈했는지 여부(1 = 예, 0 = 아니요)"
      ]
    },
    {
      "cell_type": "code",
      "execution_count": null,
      "id": "e08d1b18",
      "metadata": {
        "scrolled": true,
        "id": "e08d1b18",
        "colab": {
          "base_uri": "https://localhost:8080/"
        },
        "outputId": "6fc2d241-395c-4f74-8d0e-b0d376a837f8"
      },
      "outputs": [
        {
          "output_type": "stream",
          "name": "stdout",
          "text": [
            "Mounted at /content/drive\n"
          ]
        }
      ],
      "source": [
        "import pandas as pd\n",
        "import numpy as np\n",
        "import seaborn as sns\n",
        "import matplotlib.pyplot as plt\n",
        "from sklearn.preprocessing import StandardScaler\n",
        "\n",
        "%matplotlib inline\n",
        "\n",
        "from google.colab import drive\n",
        "drive.mount('/content/drive')"
      ]
    },
    {
      "cell_type": "code",
      "execution_count": null,
      "id": "808c9893",
      "metadata": {
        "colab": {
          "base_uri": "https://localhost:8080/"
        },
        "id": "808c9893",
        "outputId": "108e3c3a-8b29-468b-9dc1-98b93771b16c"
      },
      "outputs": [
        {
          "output_type": "stream",
          "name": "stdout",
          "text": [
            "<class 'pandas.core.frame.DataFrame'>\n",
            "RangeIndex: 10002 entries, 0 to 10001\n",
            "Data columns (total 14 columns):\n",
            " #   Column           Non-Null Count  Dtype  \n",
            "---  ------           --------------  -----  \n",
            " 0   RowNumber        10002 non-null  int64  \n",
            " 1   CustomerId       10002 non-null  int64  \n",
            " 2   Surname          10002 non-null  object \n",
            " 3   CreditScore      10002 non-null  int64  \n",
            " 4   Geography        10001 non-null  object \n",
            " 5   Gender           10002 non-null  object \n",
            " 6   Age              10001 non-null  float64\n",
            " 7   Tenure           10002 non-null  int64  \n",
            " 8   Balance          10002 non-null  float64\n",
            " 9   NumOfProducts    10002 non-null  int64  \n",
            " 10  HasCrCard        10001 non-null  float64\n",
            " 11  IsActiveMember   10001 non-null  float64\n",
            " 12  EstimatedSalary  10002 non-null  float64\n",
            " 13  Exited           10002 non-null  int64  \n",
            "dtypes: float64(5), int64(6), object(3)\n",
            "memory usage: 1.1+ MB\n"
          ]
        }
      ],
      "source": [
        "df = pd.read_csv(\"Churn_Modelling.csv\")\n",
        "df.info()"
      ]
    },
    {
      "cell_type": "code",
      "execution_count": null,
      "id": "8bf386c0",
      "metadata": {
        "id": "8bf386c0"
      },
      "outputs": [],
      "source": [
        "# index, 고객 고유 아이디, 성은 상관없다 판단\n",
        "df = df.iloc[:,3:]"
      ]
    },
    {
      "cell_type": "markdown",
      "id": "46e3d071",
      "metadata": {
        "id": "46e3d071"
      },
      "source": [
        "# 범주형 One-hot 전처리 / NA 삭재"
      ]
    },
    {
      "cell_type": "code",
      "execution_count": null,
      "id": "da59003b",
      "metadata": {
        "id": "da59003b",
        "outputId": "342a71e4-9ec4-40b7-82bf-c7bf216d6c17",
        "colab": {
          "base_uri": "https://localhost:8080/"
        }
      },
      "outputs": [
        {
          "output_type": "execute_result",
          "data": {
            "text/plain": [
              "CreditScore        0\n",
              "Geography          1\n",
              "Gender             0\n",
              "Age                1\n",
              "Tenure             0\n",
              "Balance            0\n",
              "NumOfProducts      0\n",
              "HasCrCard          1\n",
              "IsActiveMember     1\n",
              "EstimatedSalary    0\n",
              "Exited             0\n",
              "dtype: int64"
            ]
          },
          "metadata": {},
          "execution_count": 7
        }
      ],
      "source": [
        "df.isnull().sum()"
      ]
    },
    {
      "cell_type": "code",
      "execution_count": null,
      "id": "aad24107",
      "metadata": {
        "id": "aad24107"
      },
      "outputs": [],
      "source": [
        "# 3개의 na 삭재\n",
        "df = df.dropna()"
      ]
    },
    {
      "cell_type": "code",
      "execution_count": null,
      "id": "cb3eb07a",
      "metadata": {
        "id": "cb3eb07a"
      },
      "outputs": [],
      "source": [
        "X = pd.get_dummies(df.iloc[:,df.columns != \"Exited\"])\n",
        "y = df[\"Exited\"]"
      ]
    },
    {
      "cell_type": "markdown",
      "id": "8c57862c",
      "metadata": {
        "id": "8c57862c"
      },
      "source": [
        "# 모델 - Random Forest"
      ]
    },
    {
      "cell_type": "code",
      "execution_count": null,
      "id": "b89860e8",
      "metadata": {
        "id": "b89860e8"
      },
      "outputs": [],
      "source": [
        "from sklearn.model_selection import train_test_split\n",
        "from sklearn.ensemble import RandomForestClassifier\n",
        "from sklearn.metrics import accuracy_score, precision_score, recall_score, f1_score\n",
        "from sklearn.model_selection import GridSearchCV\n",
        "from scipy.stats import randint\n",
        "\n",
        "X_train, X_test, y_train, y_test = train_test_split(\n",
        "    X, y, test_size=0.2, stratify=y, random_state=42)"
      ]
    },
    {
      "cell_type": "markdown",
      "id": "d5503d01",
      "metadata": {
        "id": "d5503d01"
      },
      "source": [
        "### 그리드 서치를 통해 하이퍼파라미터 찾기"
      ]
    },
    {
      "cell_type": "code",
      "execution_count": null,
      "id": "49e32b1f",
      "metadata": {
        "id": "49e32b1f",
        "outputId": "8daca941-8c40-4f01-a8de-37dc5619c5e9",
        "colab": {
          "base_uri": "https://localhost:8080/"
        }
      },
      "outputs": [
        {
          "output_type": "stream",
          "name": "stdout",
          "text": [
            "Best Hyperparameters: {'max_depth': 20, 'min_samples_leaf': 2, 'min_samples_split': 10, 'n_estimators': 150}\n"
          ]
        }
      ],
      "source": [
        "model = RandomForestClassifier()\n",
        "\n",
        "param_grid = {\n",
        "    'n_estimators': [150, 300, 500],\n",
        "    'max_depth': [10, 20, 30],\n",
        "    'min_samples_split': [2, 5, 10],\n",
        "    'min_samples_leaf': [1, 2, 4]\n",
        "}\n",
        "\n",
        "grid_search = GridSearchCV(estimator=model, param_grid=param_grid, cv=5, scoring='accuracy')\n",
        "grid_search.fit(X, y)\n",
        "best_params = grid_search.best_params_\n",
        "print(\"Best Hyperparameters:\", best_params)"
      ]
    },
    {
      "cell_type": "code",
      "execution_count": null,
      "id": "1e0d80ee",
      "metadata": {
        "id": "1e0d80ee"
      },
      "outputs": [],
      "source": [
        "best_model = grid_search.best_estimator_"
      ]
    },
    {
      "cell_type": "code",
      "execution_count": null,
      "id": "97f4ab1e",
      "metadata": {
        "id": "97f4ab1e"
      },
      "outputs": [],
      "source": [
        "y_pred = best_model.predict(X_test)"
      ]
    },
    {
      "cell_type": "markdown",
      "id": "bd513be6",
      "metadata": {
        "id": "bd513be6"
      },
      "source": [
        "# 모델 성능"
      ]
    },
    {
      "cell_type": "code",
      "execution_count": null,
      "id": "c450dc1c",
      "metadata": {
        "scrolled": true,
        "id": "c450dc1c",
        "outputId": "063aff93-a9cc-441e-cb87-66444f011d52",
        "colab": {
          "base_uri": "https://localhost:8080/"
        }
      },
      "outputs": [
        {
          "output_type": "stream",
          "name": "stdout",
          "text": [
            "Accuracy: 0.9220\n",
            "Precision: 0.9406\n",
            "Recall: 0.6593\n",
            "F1 Score: 0.7752\n"
          ]
        }
      ],
      "source": [
        "accuracy = accuracy_score(y_test, y_pred)\n",
        "precision = precision_score(y_test, y_pred)\n",
        "recall = recall_score(y_test, y_pred)\n",
        "f1 = f1_score(y_test, y_pred)\n",
        "\n",
        "\n",
        "print(f\"Accuracy: {accuracy:.4f}\")\n",
        "print(f\"Precision: {precision:.4f}\")\n",
        "print(f\"Recall: {recall:.4f}\")\n",
        "print(f\"F1 Score: {f1:.4f}\")"
      ]
    }
  ],
  "metadata": {
    "kernelspec": {
      "display_name": "Python 3",
      "language": "python",
      "name": "python3"
    },
    "language_info": {
      "codemirror_mode": {
        "name": "ipython",
        "version": 3
      },
      "file_extension": ".py",
      "mimetype": "text/x-python",
      "name": "python",
      "nbconvert_exporter": "python",
      "pygments_lexer": "ipython3",
      "version": "3.8.8"
    },
    "colab": {
      "provenance": [],
      "include_colab_link": true
    }
  },
  "nbformat": 4,
  "nbformat_minor": 5
}